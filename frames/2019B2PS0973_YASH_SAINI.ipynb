{
 "cells": [
  {
   "cell_type": "code",
   "execution_count": 23,
   "metadata": {},
   "outputs": [
    {
     "data": {
      "text/plain": [
       "<matplotlib.image.AxesImage at 0x1241777d0>"
      ]
     },
     "execution_count": 23,
     "metadata": {},
     "output_type": "execute_result"
    },
    {
     "data": {
      "image/png": "[encoded data removed]",
      "text/plain": [
       "<Figure size 432x288 with 1 Axes>"
      ]
     },
     "metadata": {
      "needs_background": "light"
     },
     "output_type": "display_data"
    }
   ],
   "source": [
    "import numpy as np\n",
    "import matplotlib.pyplot as plt\n",
    "whiteFrame = 255 * np.ones((1000,1000,3), np.uint8)\n",
    "h = len(whiteFrame)\n",
    "w = len(whiteFrame[0])\n",
    "for y in range(h):\n",
    "    for x in range(w):\n",
    "        if (x<)\n",
    "        whiteFrame[y,x] = [255, 255, 255]\n",
    "plt.imshow(whiteFrame)"
   ]
  },
  {
   "cell_type": "code",
   "execution_count": 35,
   "metadata": {},
   "outputs": [
    {
     "data": {
      "text/plain": [
       "array([-500, -499, -498, -497, -496, -495, -494, -493, -492, -491, -490,\n",
       "       -489, -488, -487, -486, -485, -484, -483, -482, -481, -480, -479,\n",
       "       -478, -477, -476, -475, -474, -473, -472, -471, -470, -469, -468,\n",
       "       -467, -466, -465, -464, -463, -462, -461, -460, -459, -458, -457,\n",
       "       -456, -455, -454, -453, -452, -451, -450, -449, -448, -447, -446,\n",
       "       -445, -444, -443, -442, -441, -440, -439, -438, -437, -436, -435,\n",
       "       -434, -433, -432, -431, -430, -429, -428, -427, -426, -425, -424,\n",
       "       -423, -422, -421, -420, -419, -418, -417, -416, -415, -414, -413,\n",
       "       -412, -411, -410, -409, -408, -407, -406, -405, -404, -403, -402,\n",
       "       -401, -400, -399, -398, -397, -396, -395, -394, -393, -392, -391,\n",
       "       -390, -389, -388, -387, -386, -385, -384, -383, -382, -381, -380,\n",
       "       -379, -378, -377, -376, -375, -374, -373, -372, -371, -370, -369,\n",
       "       -368, -367, -366, -365, -364, -363, -362, -361, -360, -359, -358,\n",
       "       -357, -356, -355, -354, -353, -352, -351, -350, -349, -348, -347,\n",
       "       -346, -345, -344, -343, -342, -341, -340, -339, -338, -337, -336,\n",
       "       -335, -334, -333, -332, -331, -330, -329, -328, -327, -326, -325,\n",
       "       -324, -323, -322, -321, -320, -319, -318, -317, -316, -315, -314,\n",
       "       -313, -312, -311, -310, -309, -308, -307, -306, -305, -304, -303,\n",
       "       -302, -301, -300, -299, -298, -297, -296, -295, -294, -293, -292,\n",
       "       -291, -290, -289, -288, -287, -286, -285, -284, -283, -282, -281,\n",
       "       -280, -279, -278, -277, -276, -275, -274, -273, -272, -271, -270,\n",
       "       -269, -268, -267, -266, -265, -264, -263, -262, -261, -260, -259,\n",
       "       -258, -257, -256, -255, -254, -253, -252, -251, -250, -249, -248,\n",
       "       -247, -246, -245, -244, -243, -242, -241, -240, -239, -238, -237,\n",
       "       -236, -235, -234, -233, -232, -231, -230, -229, -228, -227, -226,\n",
       "       -225, -224, -223, -222, -221, -220, -219, -218, -217, -216, -215,\n",
       "       -214, -213, -212, -211, -210, -209, -208, -207, -206, -205, -204,\n",
       "       -203, -202, -201, -200, -199, -198, -197, -196, -195, -194, -193,\n",
       "       -192, -191, -190, -189, -188, -187, -186, -185, -184, -183, -182,\n",
       "       -181, -180, -179, -178, -177, -176, -175, -174, -173, -172, -171,\n",
       "       -170, -169, -168, -167, -166, -165, -164, -163, -162, -161, -160,\n",
       "       -159, -158, -157, -156, -155, -154, -153, -152, -151, -150, -149,\n",
       "       -148, -147, -146, -145, -144, -143, -142, -141, -140, -139, -138,\n",
       "       -137, -136, -135, -134, -133, -132, -131, -130, -129, -128, -127,\n",
       "       -126, -125, -124, -123, -122, -121, -120, -119, -118, -117, -116,\n",
       "       -115, -114, -113, -112, -111, -110, -109, -108, -107, -106, -105,\n",
       "       -104, -103, -102, -101, -100,  -99,  -98,  -97,  -96,  -95,  -94,\n",
       "        -93,  -92,  -91,  -90,  -89,  -88,  -87,  -86,  -85,  -84,  -83,\n",
       "        -82,  -81,  -80,  -79,  -78,  -77,  -76,  -75,  -74,  -73,  -72,\n",
       "        -71,  -70,  -69,  -68,  -67,  -66,  -65,  -64,  -63,  -62,  -61,\n",
       "        -60,  -59,  -58,  -57,  -56,  -55,  -54,  -53,  -52,  -51,  -50,\n",
       "        -49,  -48,  -47,  -46,  -45,  -44,  -43,  -42,  -41,  -40,  -39,\n",
       "        -38,  -37,  -36,  -35,  -34,  -33,  -32,  -31,  -30,  -29,  -28,\n",
       "        -27,  -26,  -25,  -24,  -23,  -22,  -21,  -20,  -19,  -18,  -17,\n",
       "        -16,  -15,  -14,  -13,  -12,  -11,  -10,   -9,   -8,   -7,   -6,\n",
       "         -5,   -4,   -3,   -2,   -1,    0,    1,    2,    3,    4,    5,\n",
       "          6,    7,    8,    9,   10,   11,   12,   13,   14,   15,   16,\n",
       "         17,   18,   19,   20,   21,   22,   23,   24,   25,   26,   27,\n",
       "         28,   29,   30,   31,   32,   33,   34,   35,   36,   37,   38,\n",
       "         39,   40,   41,   42,   43,   44,   45,   46,   47,   48,   49,\n",
       "         50,   51,   52,   53,   54,   55,   56,   57,   58,   59,   60,\n",
       "         61,   62,   63,   64,   65,   66,   67,   68,   69,   70,   71,\n",
       "         72,   73,   74,   75,   76,   77,   78,   79,   80,   81,   82,\n",
       "         83,   84,   85,   86,   87,   88,   89,   90,   91,   92,   93,\n",
       "         94,   95,   96,   97,   98,   99,  100,  101,  102,  103,  104,\n",
       "        105,  106,  107,  108,  109,  110,  111,  112,  113,  114,  115,\n",
       "        116,  117,  118,  119,  120,  121,  122,  123,  124,  125,  126,\n",
       "        127,  128,  129,  130,  131,  132,  133,  134,  135,  136,  137,\n",
       "        138,  139,  140,  141,  142,  143,  144,  145,  146,  147,  148,\n",
       "        149,  150,  151,  152,  153,  154,  155,  156,  157,  158,  159,\n",
       "        160,  161,  162,  163,  164,  165,  166,  167,  168,  169,  170,\n",
       "        171,  172,  173,  174,  175,  176,  177,  178,  179,  180,  181,\n",
       "        182,  183,  184,  185,  186,  187,  188,  189,  190,  191,  192,\n",
       "        193,  194,  195,  196,  197,  198,  199,  200,  201,  202,  203,\n",
       "        204,  205,  206,  207,  208,  209,  210,  211,  212,  213,  214,\n",
       "        215,  216,  217,  218,  219,  220,  221,  222,  223,  224,  225,\n",
       "        226,  227,  228,  229,  230,  231,  232,  233,  234,  235,  236,\n",
       "        237,  238,  239,  240,  241,  242,  243,  244,  245,  246,  247,\n",
       "        248,  249,  250,  251,  252,  253,  254,  255,  256,  257,  258,\n",
       "        259,  260,  261,  262,  263,  264,  265,  266,  267,  268,  269,\n",
       "        270,  271,  272,  273,  274,  275,  276,  277,  278,  279,  280,\n",
       "        281,  282,  283,  284,  285,  286,  287,  288,  289,  290,  291,\n",
       "        292,  293,  294,  295,  296,  297,  298,  299,  300,  301,  302,\n",
       "        303,  304,  305,  306,  307,  308,  309,  310,  311,  312,  313,\n",
       "        314,  315,  316,  317,  318,  319,  320,  321,  322,  323,  324,\n",
       "        325,  326,  327,  328,  329,  330,  331,  332,  333,  334,  335,\n",
       "        336,  337,  338,  339,  340,  341,  342,  343,  344,  345,  346,\n",
       "        347,  348,  349,  350,  351,  352,  353,  354,  355,  356,  357,\n",
       "        358,  359,  360,  361,  362,  363,  364,  365,  366,  367,  368,\n",
       "        369,  370,  371,  372,  373,  374,  375,  376,  377,  378,  379,\n",
       "        380,  381,  382,  383,  384,  385,  386,  387,  388,  389,  390,\n",
       "        391,  392,  393,  394,  395,  396,  397,  398,  399,  400,  401,\n",
       "        402,  403,  404,  405,  406,  407,  408,  409,  410,  411,  412,\n",
       "        413,  414,  415,  416,  417,  418,  419,  420,  421,  422,  423,\n",
       "        424,  425,  426,  427,  428,  429,  430,  431,  432,  433,  434,\n",
       "        435,  436,  437,  438,  439,  440,  441,  442,  443,  444,  445,\n",
       "        446,  447,  448,  449,  450,  451,  452,  453,  454,  455,  456,\n",
       "        457,  458,  459,  460,  461,  462,  463,  464,  465,  466,  467,\n",
       "        468,  469,  470,  471,  472,  473,  474,  475,  476,  477,  478,\n",
       "        479,  480,  481,  482,  483,  484,  485,  486,  487,  488,  489,\n",
       "        490,  491,  492,  493,  494,  495,  496,  497,  498,  499])"
      ]
     },
     "execution_count": 35,
     "metadata": {},
     "output_type": "execute_result"
    }
   ],
   "source": [
    "pnt = np.arange(-500, 500, 1) # 1000 equally spaced points\n",
    "x, y = np.meshgrid(pnt, pnt)\n",
    "pnt"
   ]
  },
  {
   "cell_type": "code",
   "execution_count": 36,
   "metadata": {},
   "outputs": [
    {
     "data": {
      "text/plain": [
       "array([[-500, -500, -500, ..., -500, -500, -500],\n",
       "       [-499, -499, -499, ..., -499, -499, -499],\n",
       "       [-498, -498, -498, ..., -498, -498, -498],\n",
       "       ...,\n",
       "       [ 497,  497,  497, ...,  497,  497,  497],\n",
       "       [ 498,  498,  498, ...,  498,  498,  498],\n",
       "       [ 499,  499,  499, ...,  499,  499,  499]])"
      ]
     },
     "execution_count": 36,
     "metadata": {},
     "output_type": "execute_result"
    }
   ],
   "source": [
    "y"
   ]
  },
  {
   "cell_type": "code",
   "execution_count": 37,
   "metadata": {},
   "outputs": [
    {
     "data": {
      "text/plain": [
       "array([[-500, -499, -498, ...,  497,  498,  499],\n",
       "       [-500, -499, -498, ...,  497,  498,  499],\n",
       "       [-500, -499, -498, ...,  497,  498,  499],\n",
       "       ...,\n",
       "       [-500, -499, -498, ...,  497,  498,  499],\n",
       "       [-500, -499, -498, ...,  497,  498,  499],\n",
       "       [-500, -499, -498, ...,  497,  498,  499]])"
      ]
     },
     "execution_count": 37,
     "metadata": {},
     "output_type": "execute_result"
    }
   ],
   "source": [
    "x"
   ]
  },
  {
   "cell_type": "code",
   "execution_count": 38,
   "metadata": {},
   "outputs": [
    {
     "data": {
      "text/plain": [
       "array([[707.10678119, 706.40002831, 705.69398467, ..., 704.98865239,\n",
       "        705.69398467, 706.40002831],\n",
       "       [706.40002831, 705.69256762, 704.98581546, ..., 704.27977395,\n",
       "        704.98581546, 705.69256762],\n",
       "       [705.69398467, 704.98581546, 704.27835406, ..., 703.57160261,\n",
       "        704.27835406, 704.98581546],\n",
       "       ...,\n",
       "       [704.98865239, 704.27977395, 703.57160261, ..., 702.8641405 ,\n",
       "        703.57160261, 704.27977395],\n",
       "       [705.69398467, 704.98581546, 704.27835406, ..., 703.57160261,\n",
       "        704.27835406, 704.98581546],\n",
       "       [706.40002831, 705.69256762, 704.98581546, ..., 704.27977395,\n",
       "        704.98581546, 705.69256762]])"
      ]
     },
     "execution_count": 38,
     "metadata": {},
     "output_type": "execute_result"
    }
   ],
   "source": [
    "z = np.sqrt(x ** 2 + y ** 2)\n",
    "z"
   ]
  },
  {
   "cell_type": "code",
   "execution_count": 44,
   "metadata": {},
   "outputs": [
    {
     "data": {
      "image/png": "[encoded data removed]",
      "text/plain": [
       "<Figure size 432x288 with 1 Axes>"
      ]
     },
     "metadata": {
      "needs_background": "light"
     },
     "output_type": "display_data"
    }
   ],
   "source": [
    "plt.imshow(z, cmap=plt.cm.binary); "
   ]
  },
  {
   "cell_type": "code",
   "execution_count": 45,
   "metadata": {},
   "outputs": [],
   "source": []
  },
  {
   "cell_type": "code",
   "execution_count": null,
   "metadata": {},
   "outputs": [],
   "source": []
  }
 ],
 "metadata": {
  "kernelspec": {
   "display_name": "Python 3",
   "language": "python",
   "name": "python3"
  },
  "language_info": {
   "codemirror_mode": {
    "name": "ipython",
    "version": 3
   },
   "file_extension": ".py",
   "mimetype": "text/x-python",
   "name": "python",
   "nbconvert_exporter": "python",
   "pygments_lexer": "ipython3",
   "version": "3.7.6"
  }
 },
 "nbformat": 4,
 "nbformat_minor": 4
}
