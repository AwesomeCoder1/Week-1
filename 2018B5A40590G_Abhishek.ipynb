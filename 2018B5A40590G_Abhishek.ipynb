{
  "nbformat": 4,
  "nbformat_minor": 0,
  "metadata": {
    "colab": {
      "name": "2018B5A40590G.ipynb",
      "provenance": []
    },
    "kernelspec": {
      "name": "python3",
      "display_name": "Python 3"
    }
  },
  "cells": [
    {
      "cell_type": "code",
      "metadata": {
        "id": "GioJFCDfS8iU",
        "colab_type": "code",
        "outputId": "ed26efac-d6d4-46f9-e434-50ac17ae2b93",
        "colab": {
          "base_uri": "https://localhost:8080/",
          "height": 282
        }
      },
      "source": [
        "import numpy as np\n",
        "from skimage import io\n",
        "import matplotlib.pyplot as plt\n",
        "\n",
        "photo=io.imread(\"https://images-na.ssl-images-amazon.com/images/I/81KA4Aty8xL._SL1000_.jpg\")\n",
        "\n",
        "photo_invert=photo[::-1]\n",
        "\n",
        "grayscale_array=np.zeros(1000*1000).reshape(1000,1000)\n",
        "\n",
        "for row in range(grayscale_array.shape[0]):\n",
        "  for column in range(grayscale_array.shape[1]):\n",
        "    grayscale_array[row, column] = photo[row, column, 0]*0.2989 + photo[row, column, 1]*0.578 + photo[row, column, 2]*0.114\n",
        "\n",
        "plt.imshow(grayscale_array, cmap=\"gray\")\n",
        "\n",
        "gray_adv=np.zeros((1000, 1000), int)\n",
        "pr_adv=np.zeros((5,5), int)\n",
        "\n",
        "for i in range(gray_adv.shape[0]):\n",
        "  for j in range(gray_adv.shape[1]):\n",
        "    gray_adv [i][j]=255\n",
        "\n",
        "for i in range(pr_adv.shape[0]):\n",
        "  for j in range(pr_adv.shape[1]):\n",
        "    pr_adv [i][j]=255\n",
        "\n",
        "plt.imshow(pr_adv, cmap=\"gray\", vmin=0, vmax=255)"
      ],
      "execution_count": 1,
      "outputs": [
        {
          "output_type": "execute_result",
          "data": {
            "text/plain": [
              "<matplotlib.image.AxesImage at 0x7fc3943713c8>"
            ]
          },
          "metadata": {
            "tags": []
          },
          "execution_count": 1
        },
        {
          "output_type": "display_data",
          "data": {
            "image/png": "[encoded data removed]",
            "text/plain": [
              "<Figure size 432x288 with 1 Axes>"
            ]
          },
          "metadata": {
            "tags": [],
            "needs_background": "light"
          }
        }
      ]
    }
  ]
}